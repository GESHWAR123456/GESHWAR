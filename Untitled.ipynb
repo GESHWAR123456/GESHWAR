{
 "cells": [
  {
   "cell_type": "code",
   "execution_count": 10,
   "id": "de57f10b-a85b-4594-be70-0c844274bc0c",
   "metadata": {},
   "outputs": [
    {
     "name": "stdin",
     "output_type": "stream",
     "text": [
      " A\n"
     ]
    },
    {
     "name": "stdout",
     "output_type": "stream",
     "text": [
      "A is a upper case caracter\n"
     ]
    }
   ],
   "source": [
    "a=input()\n",
    "if a.isupper():\n",
    "    print(\"A is a upper case caracter\")\n",
    "elif a.islower():\n",
    "    print(\"A is lower case caracter\")\n",
    "elif a.isnumaric():\n",
    "    print(\"A is number\")\n",
    "else:\n",
    "    print(\"A is a special caracter\")\n",
    "\n"
   ]
  },
  {
   "cell_type": "code",
   "execution_count": 7,
   "id": "95edecf8-91b5-4032-9bfd-f58ae2a01daf",
   "metadata": {},
   "outputs": [
    {
     "name": "stdin",
     "output_type": "stream",
     "text": [
      " abcba\n"
     ]
    },
    {
     "name": "stdout",
     "output_type": "stream",
     "text": [
      "pallindrome\n"
     ]
    }
   ],
   "source": [
    "a=input()\n",
    "flag = 0\n",
    "for i in range (0,int(len(a)/2)):\n",
    "    if a[i] != a[(i+1)*-1]:\n",
    "        flag = 1\n",
    "        break\n",
    "\n",
    "if flag:\n",
    "    print(\"Not pallindrome\")\n",
    "else:\n",
    "    print(\"pallindrome\")"
   ]
  },
  {
   "cell_type": "code",
   "execution_count": 16,
   "id": "6916ff89-92c0-47c8-b13e-c1bdb4c88de7",
   "metadata": {},
   "outputs": [
    {
     "name": "stdin",
     "output_type": "stream",
     "text": [
      " A\n"
     ]
    },
    {
     "name": "stdout",
     "output_type": "stream",
     "text": [
      "pallindrome\n"
     ]
    }
   ],
   "source": [
    "a=input()\n",
    "flag = 0\n",
    "for i in range (0,int(len(a)/2)):\n",
    "    if a[i] != a[(i+1)*-1]:\n",
    "        flag = 1\n",
    "        break\n",
    "\n",
    "if flag:\n",
    "    print(\"Not pallindrome\")\n",
    "else:\n",
    "    print(\"pallindrome\")"
   ]
  },
  {
   "cell_type": "code",
   "execution_count": 17,
   "id": "6e20b302-bc69-4632-8539-5dee1ca804fb",
   "metadata": {},
   "outputs": [
    {
     "name": "stdin",
     "output_type": "stream",
     "text": [
      " 9\n"
     ]
    },
    {
     "name": "stdout",
     "output_type": "stream",
     "text": [
      "A is a prime\n"
     ]
    }
   ],
   "source": [
    "a=int(input())\n",
    "\n",
    "for i in range(2,int(a/2)):\n",
    "    if a%i==0:\n",
    "        print(\"A is not a prime\")\n",
    "        break\n",
    "    else:\n",
    "        print(\"A is a prime\")\n",
    "        break"
   ]
  },
  {
   "cell_type": "code",
   "execution_count": 18,
   "id": "59b202cc-1697-4576-a851-d45899e3ac2d",
   "metadata": {},
   "outputs": [
    {
     "name": "stdin",
     "output_type": "stream",
     "text": [
      " 3\n"
     ]
    },
    {
     "name": "stdout",
     "output_type": "stream",
     "text": [
      "A is a prime\n"
     ]
    }
   ],
   "source": [
    "a=int(input())\n",
    "\n",
    "for i in range(2,int(a/2)):\n",
    "    if a%i==0:\n",
    "        print(\"A is not a prime\")\n",
    "        break\n",
    "else:\n",
    "        print(\"A is a prime\")\n",
    "        "
   ]
  },
  {
   "cell_type": "code",
   "execution_count": 7,
   "id": "6048f2c0-41e5-4e88-bedd-d53d536174a0",
   "metadata": {},
   "outputs": [
    {
     "name": "stdout",
     "output_type": "stream",
     "text": [
      "[1, 3, 4, 2, 5]\n",
      "[1, 2, 4, 3, 5]\n",
      "[1, 2, 3, 4, 5]\n",
      "[1, 2, 3, 4, 5]\n",
      "[1, 2, 3, 4, 5]\n"
     ]
    }
   ],
   "source": [
    "arr =[3,1,4,2,5]\n",
    "for i in range(len(arr)):\n",
    "    for j in range(i+1,len(arr)):\n",
    "      if arr[i]>arr[j]:\n",
    "        arr[i],arr[j] =arr[j],arr[i]\n",
    "    print(arr)"
   ]
  },
  {
   "cell_type": "markdown",
   "id": "6dc57f79-286b-48d8-aa1b-64c098f818c6",
   "metadata": {},
   "source": [
    "file handling\n",
    "\n",
    "create\n",
    "read\n",
    "update\n",
    "delete\n",
    "this is called a crud operation\n"
   ]
  },
  {
   "cell_type": "code",
   "execution_count": 12,
   "id": "b2aa3cd4-122b-4db9-bfb8-971547d9f947",
   "metadata": {},
   "outputs": [
    {
     "ename": "SyntaxError",
     "evalue": "invalid syntax (1601218022.py, line 1)",
     "output_type": "error",
     "traceback": [
      "\u001b[1;36m  Cell \u001b[1;32mIn[12], line 1\u001b[1;36m\u001b[0m\n\u001b[1;33m    if _ name _ == '_main_':\u001b[0m\n\u001b[1;37m         ^\u001b[0m\n\u001b[1;31mSyntaxError\u001b[0m\u001b[1;31m:\u001b[0m invalid syntax\n"
     ]
    }
   ],
   "source": [
    "if _ name _ == '_main_':\n",
    "    filename = \"example.txt\"\n",
    "    new _filename = \"new_example.text\"\n",
    "\n",
    "create-file(filename)\n",
    "resd_file(filename)\n",
    "append_file(filename,\"This is some additional text.\\n\")\n",
    "read_file(filename)\n",
    "rename_file(filename, new_filename)\n",
    "read_file(new_filename)\n",
    "#delete_file(new_filename)"
   ]
  },
  {
   "cell_type": "code",
   "execution_count": 10,
   "id": "d3978b90-79fd-4733-ad13-8d735b59aaf0",
   "metadata": {},
   "outputs": [
    {
     "name": "stdout",
     "output_type": "stream",
     "text": [
      "This is first text in file\n",
      "111\n"
     ]
    }
   ],
   "source": [
    "import os\n",
    "\n",
    "with open(\"file.txt\",'w') as f:\n",
    "    f.write(\"This is first text in file\")\n",
    "    f.close()\n",
    "\n",
    "with open(\"file.txt\",'r') as f:\n",
    "    for a in f.read().split(\"\\n\"):\n",
    "        print(a)\n",
    "        print(\"111\")\n",
    "\n",
    "    f.close()"
   ]
  },
  {
   "cell_type": "code",
   "execution_count": 27,
   "id": "a980a16e-b1ea-454e-a9e6-db4669209ebf",
   "metadata": {},
   "outputs": [
    {
     "name": "stdin",
     "output_type": "stream",
     "text": [
      "Enter text:  Sample\n",
      "Enter Append Text:  Append\n"
     ]
    },
    {
     "name": "stdout",
     "output_type": "stream",
     "text": [
      "SampleAppend\n"
     ]
    }
   ],
   "source": [
    "import os\n",
    "with open(\"file.txt\",'w') as f:\n",
    "    f.write(input(\"Enter text: \"))\n",
    "    f.close()\n",
    "with open(\"file.txt\",'a') as f:\n",
    "    f.write(input(\"Enter Append Text: \"))\n",
    "    f.close()\n",
    "with open(\"file.txt\",'r') as f:\n",
    "    print(f.read())\n",
    "    f.close()\n"
   ]
  },
  {
   "cell_type": "markdown",
   "id": "10078503-83f8-47c9-9283-8e9462b2463e",
   "metadata": {},
   "source": [
    "w write\n",
    "r read\n",
    "a append\n",
    "w+ write and read\n",
    "r+ read and write\n",
    "a+ append and read"
   ]
  },
  {
   "cell_type": "code",
   "execution_count": 29,
   "id": "8e195d5d-6eba-4a3a-a324-c0b364148b0a",
   "metadata": {},
   "outputs": [
    {
     "name": "stdin",
     "output_type": "stream",
     "text": [
      "Enter Temperature in celsius: 39.4\n"
     ]
    },
    {
     "name": "stdout",
     "output_type": "stream",
     "text": [
      "102.91999999999999\n"
     ]
    }
   ],
   "source": [
    "C=float(input(\"Enter Temperature in celsius:\"))\n",
    "F = (C *9/5) + 32\n",
    "print(F)"
   ]
  },
  {
   "cell_type": "code",
   "execution_count": 12,
   "id": "ca32ad18-dae7-4437-aeb1-1b347ef9004b",
   "metadata": {},
   "outputs": [
    {
     "name": "stdout",
     "output_type": "stream",
     "text": [
      "Second largest element: 7\n"
     ]
    }
   ],
   "source": [
    "def second_largest(arr):\n",
    "    if len(arr) < 2:\n",
    "        return \"List has less than 2 elements\"\n",
    "\n",
    "    sorted_arr = sorted(arr, reverse=True)  # Sort the list in descending order\n",
    "    return sorted_arr[1]  # Second element is the second largest\n",
    "\n",
    "# Example usage:\n",
    "my_list = [3, 7, 1, 9, 4, 6, 2]\n",
    "print(\"Second largest element:\", second_largest(my_list))\n",
    "\n",
    "\n",
    "\n"
   ]
  },
  {
   "cell_type": "code",
   "execution_count": 13,
   "id": "96c0f639-9b22-4d2d-a11c-d83f8c7d1f21",
   "metadata": {},
   "outputs": [
    {
     "name": "stdout",
     "output_type": "stream",
     "text": [
      "Occurrences of each element: {1: 4, 2: 3, 3: 2, 4: 1}\n"
     ]
    }
   ],
   "source": [
    "def count_occurrences(arr):\n",
    "    # Create an empty dictionary to store the counts\n",
    "    counts = {}\n",
    "\n",
    "    # Iterate through the list and update the counts\n",
    "    for elem in arr:\n",
    "        if elem in counts:\n",
    "            counts[elem] += 1\n",
    "        else:\n",
    "            counts[elem] = 1\n",
    "\n",
    "    return counts\n",
    "\n",
    "# Example usage:\n",
    "my_list = [1, 2, 3, 4, 1, 2, 3, 1, 2, 1]\n",
    "print(\"Occurrences of each element:\", count_occurrences(my_list))\n"
   ]
  },
  {
   "cell_type": "code",
   "execution_count": null,
   "id": "36302c11-a336-4e0b-9d00-93dbe186935a",
   "metadata": {},
   "outputs": [],
   "source": []
  },
  {
   "cell_type": "code",
   "execution_count": null,
   "id": "f6d19212-69c5-41fb-a8ac-4883e8193518",
   "metadata": {},
   "outputs": [],
   "source": []
  }
 ],
 "metadata": {
  "kernelspec": {
   "display_name": "Python 3 (ipykernel)",
   "language": "python",
   "name": "python3"
  },
  "language_info": {
   "codemirror_mode": {
    "name": "ipython",
    "version": 3
   },
   "file_extension": ".py",
   "mimetype": "text/x-python",
   "name": "python",
   "nbconvert_exporter": "python",
   "pygments_lexer": "ipython3",
   "version": "3.12.3"
  }
 },
 "nbformat": 4,
 "nbformat_minor": 5
}
