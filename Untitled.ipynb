{
 "cells": [
  {
   "cell_type": "code",
   "execution_count": 2,
   "id": "303d835a-d977-4402-b17d-43a6da659db6",
   "metadata": {},
   "outputs": [
    {
     "name": "stdout",
     "output_type": "stream",
     "text": [
      "\n",
      "Linked List Menu:\n",
      "1. Insert a node at the beginning\n",
      "2. Insert a node at the end\n",
      "3. Insert a node at the middle\n",
      "4. Delete a node\n",
      "5. Print the list\n",
      "6. Exit\n"
     ]
    },
    {
     "name": "stdin",
     "output_type": "stream",
     "text": [
      "Enter your choice:  1\n",
      "Enter the data to be inserted at the beginning:  4\n"
     ]
    },
    {
     "name": "stdout",
     "output_type": "stream",
     "text": [
      "Node with data 4 inserted at the beginning.\n",
      "\n",
      "Linked List Menu:\n",
      "1. Insert a node at the beginning\n",
      "2. Insert a node at the end\n",
      "3. Insert a node at the middle\n",
      "4. Delete a node\n",
      "5. Print the list\n",
      "6. Exit\n"
     ]
    },
    {
     "name": "stdin",
     "output_type": "stream",
     "text": [
      "Enter your choice:  2\n",
      "Enter the data to be inserted at the end:  5\n"
     ]
    },
    {
     "name": "stdout",
     "output_type": "stream",
     "text": [
      "Node with data 5 inserted at the end.\n",
      "\n",
      "Linked List Menu:\n",
      "1. Insert a node at the beginning\n",
      "2. Insert a node at the end\n",
      "3. Insert a node at the middle\n",
      "4. Delete a node\n",
      "5. Print the list\n",
      "6. Exit\n"
     ]
    },
    {
     "name": "stdin",
     "output_type": "stream",
     "text": [
      "Enter your choice:  7\n"
     ]
    },
    {
     "name": "stdout",
     "output_type": "stream",
     "text": [
      "Invalid choice! Please enter a valid option.\n",
      "\n",
      "Linked List Menu:\n",
      "1. Insert a node at the beginning\n",
      "2. Insert a node at the end\n",
      "3. Insert a node at the middle\n",
      "4. Delete a node\n",
      "5. Print the list\n",
      "6. Exit\n"
     ]
    },
    {
     "name": "stdin",
     "output_type": "stream",
     "text": [
      "Enter your choice:  2\n",
      "Enter the data to be inserted at the end:  5\n"
     ]
    },
    {
     "name": "stdout",
     "output_type": "stream",
     "text": [
      "Node with data 5 inserted at the end.\n",
      "\n",
      "Linked List Menu:\n",
      "1. Insert a node at the beginning\n",
      "2. Insert a node at the end\n",
      "3. Insert a node at the middle\n",
      "4. Delete a node\n",
      "5. Print the list\n",
      "6. Exit\n"
     ]
    },
    {
     "name": "stdin",
     "output_type": "stream",
     "text": [
      "Enter your choice:  5\n"
     ]
    },
    {
     "name": "stdout",
     "output_type": "stream",
     "text": [
      "Linked List: 4 -> 5 -> 5 -> None\n",
      "\n",
      "Linked List Menu:\n",
      "1. Insert a node at the beginning\n",
      "2. Insert a node at the end\n",
      "3. Insert a node at the middle\n",
      "4. Delete a node\n",
      "5. Print the list\n",
      "6. Exit\n"
     ]
    },
    {
     "name": "stdin",
     "output_type": "stream",
     "text": [
      "Enter your choice:  4\n",
      "Enter the data to be deleted:  4\n"
     ]
    },
    {
     "name": "stdout",
     "output_type": "stream",
     "text": [
      "Node with data 4 deleted from the list.\n",
      "\n",
      "Linked List Menu:\n",
      "1. Insert a node at the beginning\n",
      "2. Insert a node at the end\n",
      "3. Insert a node at the middle\n",
      "4. Delete a node\n",
      "5. Print the list\n",
      "6. Exit\n"
     ]
    },
    {
     "name": "stdin",
     "output_type": "stream",
     "text": [
      "Enter your choice:  4\n",
      "Enter the data to be deleted:  4\n"
     ]
    },
    {
     "name": "stdout",
     "output_type": "stream",
     "text": [
      "Node with data 4 not found in the list.\n",
      "\n",
      "Linked List Menu:\n",
      "1. Insert a node at the beginning\n",
      "2. Insert a node at the end\n",
      "3. Insert a node at the middle\n",
      "4. Delete a node\n",
      "5. Print the list\n",
      "6. Exit\n"
     ]
    },
    {
     "name": "stdin",
     "output_type": "stream",
     "text": [
      "Enter your choice:  4\n",
      "Enter the data to be deleted:  4\n"
     ]
    },
    {
     "name": "stdout",
     "output_type": "stream",
     "text": [
      "Node with data 4 not found in the list.\n",
      "\n",
      "Linked List Menu:\n",
      "1. Insert a node at the beginning\n",
      "2. Insert a node at the end\n",
      "3. Insert a node at the middle\n",
      "4. Delete a node\n",
      "5. Print the list\n",
      "6. Exit\n"
     ]
    },
    {
     "name": "stdin",
     "output_type": "stream",
     "text": [
      "Enter your choice:  6\n"
     ]
    },
    {
     "name": "stdout",
     "output_type": "stream",
     "text": [
      "Exiting the program.\n"
     ]
    }
   ],
   "source": [
    "class Node:\n",
    "    def __init__(self, data):\n",
    "        self.data = data\n",
    "        self.next = None\n",
    "\n",
    "class LinkedList:\n",
    "    def __init__(self):\n",
    "        self.head = None\n",
    "\n",
    "    # Function to insert a node at the beginning of the linked list\n",
    "    def insert_at_beginning(self, data):\n",
    "        new_node = Node(data)\n",
    "        new_node.next = self.head\n",
    "        self.head = new_node\n",
    "        print(f\"Node with data {data} inserted at the beginning.\")\n",
    "\n",
    "    # Function to insert a node at the end of the linked list\n",
    "    def insert_at_end(self, data):\n",
    "        new_node = Node(data)\n",
    "        if self.head is None:\n",
    "            self.head = new_node\n",
    "            return\n",
    "        last_node = self.head\n",
    "        while last_node.next:\n",
    "            last_node = last_node.next\n",
    "        last_node.next = new_node\n",
    "        print(f\"Node with data {data} inserted at the end.\")\n",
    "\n",
    "    # Function to insert a node at the middle of the linked list\n",
    "    def insert_at_middle(self, position, data):\n",
    "        if position < 0:\n",
    "            print(\"Invalid position!\")\n",
    "            return\n",
    "        if position == 0:\n",
    "            self.insert_at_beginning(data)\n",
    "            return\n",
    "        new_node = Node(data)\n",
    "        current = self.head\n",
    "        count = 0\n",
    "        while current:\n",
    "            if count == position - 1:\n",
    "                new_node.next = current.next\n",
    "                current.next = new_node\n",
    "                print(f\"Node with data {data} inserted at position {position}.\")\n",
    "                return\n",
    "            current = current.next\n",
    "            count += 1\n",
    "        print(\"Position out of range.\")\n",
    "\n",
    "    # Function to delete a node by value from the linked list\n",
    "    def delete_node(self, key):\n",
    "        temp = self.head\n",
    "\n",
    "        # If the key is present at the head node\n",
    "        if temp is not None and temp.data == key:\n",
    "            self.head = temp.next\n",
    "            temp = None\n",
    "            print(f\"Node with data {key} deleted from the list.\")\n",
    "            return\n",
    "\n",
    "        # Find the previous node of the node to be deleted\n",
    "        prev = None\n",
    "        while temp is not None and temp.data != key:\n",
    "            prev = temp\n",
    "            temp = temp.next\n",
    "\n",
    "        # If key was not present in the linked list\n",
    "        if temp is None:\n",
    "            print(f\"Node with data {key} not found in the list.\")\n",
    "            return\n",
    "\n",
    "        # Unlink the node from the linked list\n",
    "        prev.next = temp.next\n",
    "        temp = None\n",
    "        print(f\"Node with data {key} deleted from the list.\")\n",
    "\n",
    "    # Function to print the linked list\n",
    "    def print_list(self):\n",
    "        temp = self.head\n",
    "        while temp:\n",
    "            print(temp.data, end=\" -> \")\n",
    "            temp = temp.next\n",
    "        print(\"None\")\n",
    "\n",
    "if __name__ == \"__main__\":\n",
    "    linked_list = LinkedList()\n",
    "\n",
    "    while True:\n",
    "        print(\"\\nLinked List Menu:\")\n",
    "        print(\"1. Insert a node at the beginning\")\n",
    "        print(\"2. Insert a node at the end\")\n",
    "        print(\"3. Insert a node at the middle\")\n",
    "        print(\"4. Delete a node\")\n",
    "        print(\"5. Print the list\")\n",
    "        print(\"6. Exit\")\n",
    "\n",
    "        choice = int(input(\"Enter your choice: \"))\n",
    "\n",
    "        if choice == 1:\n",
    "            data = int(input(\"Enter the data to be inserted at the beginning: \"))\n",
    "            linked_list.insert_at_beginning(data)\n",
    "        elif choice == 2:\n",
    "            data = int(input(\"Enter the data to be inserted at the end: \"))\n",
    "            linked_list.insert_at_end(data)\n",
    "        elif choice == 3:\n",
    "            position = int(input(\"Enter the position to insert the node: \"))\n",
    "            data = int(input(\"Enter the data to be inserted at the middle: \"))\n",
    "            linked_list.insert_at_middle(position, data)\n",
    "        elif choice == 4:\n",
    "            data = int(input(\"Enter the data to be deleted: \"))\n",
    "            linked_list.delete_node(data)\n",
    "        elif choice == 5:\n",
    "            print(\"Linked List:\", end=\" \")\n",
    "            linked_list.print_list()\n",
    "        elif choice == 6:\n",
    "            print(\"Exiting the program.\")\n",
    "            break\n",
    "        else:\n",
    "            print(\"Invalid choice! Please enter a valid option.\")\n"
   ]
  },
  {
   "cell_type": "code",
   "execution_count": 3,
   "id": "73aeb08d-3b49-4ec6-9ae8-1f017c362269",
   "metadata": {},
   "outputs": [
    {
     "name": "stdout",
     "output_type": "stream",
     "text": [
      "Node 1 <__main__.node object at 0x000002CAB6CABB30> 1\n",
      "Node 2 <__main__.node object at 0x000002CAB6DFDA90> 2\n",
      "Node 3 <__main__.node object at 0x000002CAB6DFF6E0> 3\n",
      "Node 4 <__main__.node object at 0x000002CAB6DFF920> 4\n"
     ]
    }
   ],
   "source": []
  },
  {
   "cell_type": "markdown",
   "id": "932053af-1dc0-45e0-b422-b973cd4618d5",
   "metadata": {},
   "source": [
    "preorder"
   ]
  },
  {
   "cell_type": "code",
   "execution_count": 22,
   "id": "02dc2ca4-f5b9-4fdb-ac61-b4773a03faba",
   "metadata": {},
   "outputs": [
    {
     "name": "stdout",
     "output_type": "stream",
     "text": [
      "1\n",
      "2\n",
      "4\n",
      "6\n",
      "3\n",
      "7\n",
      "5\n",
      "<function preorder at 0x000002CAB7421A80>\n"
     ]
    }
   ],
   "source": [
    "class node\n",
    "    def __init__(self,value):\n",
    "        self.data=value\n",
    "        self.left=None\n",
    "        self.right=None\n",
    "def preorder(root):\n",
    "    if root==None:\n",
    "        return\n",
    "    print(root.data)\n",
    "    preorder(root.left)\n",
    "    preorder(root.right)\n",
    "\n",
    "root=node(1)\n",
    "root.left= node(2)\n",
    "\n",
    "root.right = node(3)\n",
    "\n",
    "root.left.left=node(4)\n",
    "root.right.right=node(5)\n",
    "\n",
    "root.left.right=node(6)\n",
    "root.right.left=node(7)\n",
    "\n",
    "preorder(root)\n",
    "print(preorder)\n",
    "\n",
    "\n",
    "\n"
   ]
  },
  {
   "cell_type": "markdown",
   "id": "3e5efa6e-8fd5-4766-9991-60998fd4fc4a",
   "metadata": {},
   "source": [
    "     INORDER"
   ]
  },
  {
   "cell_type": "code",
   "execution_count": 35,
   "id": "33adf622-7098-4cbf-b083-82bdb3c080f4",
   "metadata": {},
   "outputs": [
    {
     "name": "stdout",
     "output_type": "stream",
     "text": [
      "4\n",
      "2\n",
      "6\n",
      "1\n",
      "7\n",
      "3\n",
      "5\n",
      "inorder\n"
     ]
    }
   ],
   "source": [
    "class node:\n",
    "    def __init__(self,value):\n",
    "        self.data=value\n",
    "        self.left=None\n",
    "        self.right=None\n",
    "\n",
    "def inorder(root):\n",
    "    if root==None:\n",
    "        return\n",
    "    inorder(root.left)\n",
    "    print(root.data)\n",
    "    inorder(root.right)\n",
    "\n",
    "root=node(1)\n",
    "root.left= node(2)\n",
    "\n",
    "root.right = node(3)\n",
    "\n",
    "root.left.left=node(4)\n",
    "root.right.right=node(5)\n",
    "\n",
    "root.left.right=node(6)\n",
    "root.right.left=node(7)\n",
    "\n",
    "inorder(root)\n",
    "print(\"inorder\")\n"
   ]
  },
  {
   "cell_type": "markdown",
   "id": "8cf8d45c-8ae0-4c11-a74a-47cbd86716e7",
   "metadata": {},
   "source": [
    "postorder"
   ]
  },
  {
   "cell_type": "code",
   "execution_count": 37,
   "id": "c323d32d-7531-4ca6-9bb1-d565d870cfc9",
   "metadata": {},
   "outputs": [
    {
     "name": "stdout",
     "output_type": "stream",
     "text": [
      "4\n",
      "6\n",
      "2\n",
      "7\n",
      "5\n",
      "3\n",
      "1\n",
      "postorder\n"
     ]
    }
   ],
   "source": [
    "class node:\n",
    "    def __init__(self,value):\n",
    "        self.data=value\n",
    "        self.left=None\n",
    "        self.right=None\n",
    "\n",
    "def postorder(root):\n",
    "    if root==None:\n",
    "        return\n",
    "    postorder(root.left)\n",
    "    postorder(root.right)\n",
    "    print(root.data)\n",
    "\n",
    "root=node(1)\n",
    "root.left= node(2)\n",
    "\n",
    "root.right = node(3)\n",
    "\n",
    "root.left.left=node(4)\n",
    "root.right.right=node(5)\n",
    "\n",
    "root.left.right=node(6)\n",
    "root.right.left=node(7)\n",
    "\n",
    "postorder(root)\n",
    "print(\"postorder\")\n"
   ]
  },
  {
   "cell_type": "code",
   "execution_count": 40,
   "id": "02a5cdf3-f1f9-43d1-a565-74bad37af829",
   "metadata": {},
   "outputs": [
    {
     "name": "stdout",
     "output_type": "stream",
     "text": [
      "1 \n",
      "2 3 \n",
      "4 6 7 5 \n",
      "levelorder\n"
     ]
    }
   ],
   "source": [
    "def levelorder(root):\n",
    "    Q=[root,None]\n",
    "    while Q:\n",
    "        curr = Q.pop(0)\n",
    "        if curr == None:\n",
    "            print()\n",
    "            if Q:\n",
    "               Q.append(curr)\n",
    "        else:\n",
    "            print(curr.data,end=\" \")\n",
    "            if curr.left !=None:\n",
    "                Q.append(curr.left)\n",
    "                \n",
    "            if curr.right !=None:\n",
    "                Q.append(curr.right)\n",
    "\n",
    "root=node(1)\n",
    "root.left= node(2)\n",
    "\n",
    "root.right = node(3)\n",
    "\n",
    "root.left.left=node(4)\n",
    "root.right.right=node(5)\n",
    "\n",
    "root.left.right=node(6)\n",
    "root.right.left=node(7)\n",
    "\n",
    "levelorder(root)\n",
    "print(\"levelorder\")"
   ]
  },
  {
   "cell_type": "code",
   "execution_count": null,
   "id": "26604c71-b48a-4068-a4a4-225269aa698e",
   "metadata": {},
   "outputs": [],
   "source": []
  }
 ],
 "metadata": {
  "kernelspec": {
   "display_name": "Python 3 (ipykernel)",
   "language": "python",
   "name": "python3"
  },
  "language_info": {
   "codemirror_mode": {
    "name": "ipython",
    "version": 3
   },
   "file_extension": ".py",
   "mimetype": "text/x-python",
   "name": "python",
   "nbconvert_exporter": "python",
   "pygments_lexer": "ipython3",
   "version": "3.12.3"
  }
 },
 "nbformat": 4,
 "nbformat_minor": 5
}
