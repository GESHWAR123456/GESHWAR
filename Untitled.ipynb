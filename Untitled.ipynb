{
 "cells": [
  {
   "cell_type": "markdown",
   "id": "d96650e6-de69-4db6-b780-c0681400509f",
   "metadata": {},
   "source": [
    "time complxity\n",
    "space complxity\n",
    "constant complxity "
   ]
  },
  {
   "cell_type": "code",
   "execution_count": null,
   "id": "fd4e276a-b044-47b0-965c-ad1a25f4f6ba",
   "metadata": {},
   "outputs": [],
   "source": [
    "L=[2,4,6,1,3,7,4,6,9,3,6,8,3,6,4,1,3,9,6,4,5,6,6,8,7,3,6,8]\n",
    "\n",
    "# find the mximum sum of any 3 consecutive elements of this array"
   ]
  },
  {
   "cell_type": "code",
   "execution_count": 5,
   "id": "69b56611-2934-4ab6-9e26-a89d2a77e5aa",
   "metadata": {},
   "outputs": [
    {
     "name": "stdout",
     "output_type": "stream",
     "text": [
      "22 23 24\n",
      "21\n"
     ]
    }
   ],
   "source": [
    "L=[2,4,6,1,3,7,4,6,9,3,6,8,3,6,4,1,3,9,6,4,5,6,6,8,7,3,6,8]\n",
    "ma=0\n",
    "for i in range (len(L)-2):\n",
    "            if ma<(L[i]+L[i+1]+L[i+2]):\n",
    "                ma=L[i]+L[i+1]+L[i+2]\n",
    "                a,b,c=i,i+1,i+2\n",
    "\n",
    "print(a,b,c)\n",
    "print(ma)  \n",
    "                "
   ]
  },
  {
   "cell_type": "code",
   "execution_count": 37,
   "id": "8f19d44c-a003-46b5-bae5-acb355a31e77",
   "metadata": {},
   "outputs": [
    {
     "name": "stdout",
     "output_type": "stream",
     "text": [
      "27\n"
     ]
    }
   ],
   "source": [
    "L=[2,4,6,1,3,7,4,6,9,3,6,8,3,6,4,1,3,9,6,4,5,6,6,8,7,3,6,8,2,4,6,1,3,7,4,6,9,3,6,8,3,6,4,1,3,9,6,4,5,6,6,8,7,3,6,8]\n",
    "max=0\n",
    "for x in range (len(L)-6):\n",
    "    sum = L[i]+L[i+1]+L[i+2]+L[i+3]+L[i+4]+L[i+5]+L[i+6]\n",
    "    if(max<sum):\n",
    "        max=sum\n",
    "\n",
    "print(max)"
   ]
  },
  {
   "cell_type": "markdown",
   "id": "663fe471-276c-4888-8d43-bd1eb01854d7",
   "metadata": {},
   "source": [
    "PRINT NUMBERS OF VALUES"
   ]
  },
  {
   "cell_type": "code",
   "execution_count": 42,
   "id": "d31393da-79f6-4ce2-a3b8-b10ed8c4cbb2",
   "metadata": {},
   "outputs": [
    {
     "name": "stdin",
     "output_type": "stream",
     "text": [
      "Enter the no. of consecutive number:  3\n"
     ]
    },
    {
     "name": "stdout",
     "output_type": "stream",
     "text": [
      "12\n"
     ]
    }
   ],
   "source": [
    "L=[2,4,6,1,3,7,4,6,9,3,6,8,3,6,4,1,3,9,6,4,5,6,6,8,7,3,6,8,2,4,6,1,3,7,4,6,9,3,6,8,3,6,4,1,3,9,6,4,5,6,6,8,7,3,6,8,4,6,1,3,7,4,6,9,3,6,8,3,6,4,1,3,9,6,4,5,6,6,8,7,3\n",
    "  ,4,6,1,3,7,4,6,9,3,6,8,3,6,4,1,3,9,6,4,5,6,6,8,7,3,4,6,1,3,7,4,6,9,3,6,8,3,6,4,1,3,9,6,4,5,6,6,8,7,3,4,6,1,3,7,4,6,9,3,6,8,3,6,4,1,3,9,6,4,5,6,6,8,7,3\n",
    "  ,4,6,1,3,7,4,6,9,3,6,8,3,6,4,1,3,9,6,4,5,6,6,8,7,3,4,6,1,3,7,4,6,9,3,6,8,3,6,4,1,3,9,6,4,5,6,6,8,7,3,4,6,1,3,7,4,6,9,3,6,8,3,6,4,1,3,9,6,4,5,6,6,8,7,3\n",
    "  ,4,6,1,3,7,4,6,9,3,6,8,3,6,4,1,3,9,6,4,5,6,6,8,7,3]\n",
    "ma=0\n",
    "user=int(input(\"Enter the no. of consecutive number: \"))\n",
    "\n",
    "for x in range (len(L)-user):\n",
    "    s=0\n",
    "    for j in range(0,user):\n",
    "        s=s+L[i+j]\n",
    "    if ma<s:\n",
    "       ma=s\n",
    "print(ma)\n",
    "    \n"
   ]
  },
  {
   "cell_type": "code",
   "execution_count": 13,
   "id": "764d71a3-c723-456c-9a38-867a77083a14",
   "metadata": {},
   "outputs": [
    {
     "name": "stdout",
     "output_type": "stream",
     "text": [
      "[2, 1, 3, 8, 6, 5, 7]\n",
      "Enter in a order list\n"
     ]
    }
   ],
   "source": [
    "L=[2,1,3,8,6,5,7]\n",
    "print(L)\n",
    "L=(\"Enter in a order list\")\n",
    "print(L)"
   ]
  },
  {
   "cell_type": "markdown",
   "id": "255efe29-fd27-43ca-878a-0d46db5e5c55",
   "metadata": {},
   "source": [
    "bubble SORTHING METHOD"
   ]
  },
  {
   "cell_type": "code",
   "execution_count": 15,
   "id": "8401fbb8-3bd2-47f5-8f3d-eed9a251fb1e",
   "metadata": {},
   "outputs": [
    {
     "name": "stdout",
     "output_type": "stream",
     "text": [
      "[1, 2, 3, 5, 6, 7, 8]\n"
     ]
    }
   ],
   "source": [
    "l=[2,1,3,8,6,5,7]\n",
    "for i in range(len(l)):\n",
    " for j in range(i+1,len(l)):\n",
    "     if l[i]>l[j]:\n",
    "         l[i],l[j]=l[j],l[i]\n",
    "\n",
    "print(l)"
   ]
  },
  {
   "cell_type": "markdown",
   "id": "dd146a3e-f031-42af-97a1-35d7c75b22ad",
   "metadata": {},
   "source": [
    "SELECTION SORT\n",
    "INSERTING SORT\n",
    "BUBBLE SORT\n",
    "DIVIDED CONVEYER\n"
   ]
  },
  {
   "cell_type": "code",
   "execution_count": null,
   "id": "fd88a6a5-c72d-4d6a-bad5-266f0faf1f04",
   "metadata": {},
   "outputs": [],
   "source": []
  }
 ],
 "metadata": {
  "kernelspec": {
   "display_name": "Python 3 (ipykernel)",
   "language": "python",
   "name": "python3"
  },
  "language_info": {
   "codemirror_mode": {
    "name": "ipython",
    "version": 3
   },
   "file_extension": ".py",
   "mimetype": "text/x-python",
   "name": "python",
   "nbconvert_exporter": "python",
   "pygments_lexer": "ipython3",
   "version": "3.12.3"
  }
 },
 "nbformat": 4,
 "nbformat_minor": 5
}
